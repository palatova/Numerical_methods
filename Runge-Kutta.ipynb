{
 "cells": [
  {
   "cell_type": "code",
   "execution_count": 88,
   "metadata": {},
   "outputs": [
    {
     "name": "stdout",
     "output_type": "stream",
     "text": [
      "+----+--------------------+--------------------+\n",
      "| №  |         y          |        y_tr        |\n",
      "+----+--------------------+--------------------+\n",
      "| 1  | 1.2961965092922338 | 1.3132616875182228 |\n",
      "| 2  | 1.4340792864504626 | 1.4337808304830273 |\n",
      "| 3  | 1.6628753837288293 | 1.9499750629056323 |\n",
      "| 4  | 1.9502062439714771 | 2.631855566797919  |\n",
      "| 5  | 2.277171221413849  | 3.3972774360550178 |\n",
      "| 6  | 2.3927803714871607 | 2.2769874497772524 |\n",
      "| 7  | 2.5111381951810654 | 2.5110051922783647 |\n",
      "| 8  | 2.631968621459652  | 2.7549352078375433 |\n",
      "| 9  | 2.7550312647818624 | 3.0069703480723198 |\n",
      "| 10 | 2.880116209562336  | 3.265725403189175  |\n",
      "| 11 | 2.9092492461516835 | 2.880034623253033  |\n",
      "| 12 |  2.93847801665574  | 2.938402398060283  |\n",
      "| 13 | 2.9678005019052445 | 2.9971446592338866 |\n",
      "| 14 | 2.9972147416967476 | 3.0562459795243626 |\n",
      "| 15 | 3.0267188327801566 | 3.115691810456517  |\n",
      "| 16 | 3.0328179916948415 | 3.0266513661583123 |\n",
      "| 17 | 3.038920881645159  | 3.038854466229379  |\n",
      "| 18 | 3.0450274867730656 | 3.051072410899216  |\n",
      "| 19 | 3.051137791315504  | 3.063305074683818  |\n",
      "| 20 | 3.0572517796037326 | 3.0755523335940858 |\n",
      "| 21 | 3.0584828346295163 | 3.057186910686279  |\n",
      "| 22 | 3.0597140381363728 | 3.059649374006128  |\n",
      "| 23 | 3.0609453899979067 | 3.0621124301050453 |\n",
      "| 24 | 3.062176890087875  | 3.0645760779756475 |\n",
      "| 25 | 3.063408538280186  | 3.0670403166129767 |\n",
      "| 26 | 3.0636552009074354 | 3.0633441801317525 |\n",
      "| 27 | 3.0639018694678875 | 3.0638375520606678 |\n",
      "| 28 | 3.0641485439605316 | 3.064330947692828  |\n",
      "| 29 | 3.064395224384358  | 3.0648243670201687 |\n",
      "| 30 | 3.0646419107383562 | 3.065317810034628  |\n",
      "| 31 | 3.064691261350433  | 3.0645776543951047 |\n",
      "| 32 |  3.06474061219979  | 3.0646763639961474 |\n",
      "| 33 | 3.064789963286419  | 3.064775074545257  |\n",
      "| 34 | 3.0648393146103112 | 3.064873786042369  |\n",
      "| 35 | 3.064888666171459  | 3.064972498487418  |\n",
      "| 36 | 3.064898537017514  | 3.064824430175317  |\n",
      "| 37 | 3.0649084078730593 | 3.0648441735044947 |\n",
      "| 38 | 3.0649182787380957 | 3.0648639168715937 |\n",
      "| 39 | 3.064928149612623  | 3.0648836602766147 |\n",
      "| 40 | 3.0649380204966405 | 3.064903403719557  |\n",
      "+----+--------------------+--------------------+\n",
      "1.2799836162097125e-05\n",
      "40\n"
     ]
    },
    {
     "data": {
      "image/png": "[encoded data removed]",
      "text/plain": [
       "<Figure size 432x288 with 1 Axes>"
      ]
     },
     "metadata": {
      "needs_background": "light"
     },
     "output_type": "display_data"
    }
   ],
   "source": [
    "import numpy as np\n",
    "import math\n",
    "import matplotlib.pyplot as plt\n",
    "from prettytable import PrettyTable\n",
    "# уравнение : y'= (e^(x-y)-1)/x\n",
    "table = PrettyTable()\n",
    "table.field_names = [\"№\",\"y\",\"y_tr\"]\n",
    "c=1\n",
    "x_arr=np.zeros(40)\n",
    "y_arr=np.zeros(40)\n",
    "y_arr_tr=np.zeros(40)\n",
    "def func(x):\n",
    "    y=math.log((math.exp(x)+1)/x)\n",
    "    return y\n",
    "\n",
    "def f(x,y):\n",
    "    y=(math.exp(x-y)-1)/x\n",
    "    return y\n",
    "x=1\n",
    "y=func(x)\n",
    "max=0\n",
    "eps=0.0001\n",
    "n=1\n",
    "h=1/(n+1)\n",
    "count =0\n",
    "while True:\n",
    "    h=1/(n+1)\n",
    "    max=0\n",
    "    for i in range(0,5):\n",
    "        k1=h*f(x,y)\n",
    "        k2=h*f(x+h/2,y+k1/2)\n",
    "        k3=h*f(x+h/2,y+k2/2)\n",
    "        k4=h*f(x+h,y+k3)\n",
    "        y=y+(k1+2*k2+2*k3+k4)/6\n",
    "        y_tr=func(x+i*h)\n",
    "        x_arr[count]=x\n",
    "        y_arr[count]=y\n",
    "        y_arr_tr[count]=y_tr\n",
    "        x=x+h\n",
    "        count=count+1\n",
    "        table.add_row([count, y,y_tr])\n",
    "        if(max<abs(y-y_tr)):\n",
    "            max=abs(y-y_tr)\n",
    "    if(max<=eps):\n",
    "        break\n",
    "    else:\n",
    "        n=n*5\n",
    "print(table)\n",
    "print(h) \n",
    "print(count)\n",
    "\n",
    "plt.plot(x_arr,y_arr)\n",
    "plt.plot(x_arr,y_arr_tr)\n",
    "plt.show()\n",
    "\n",
    "\n"
   ]
  },
  {
   "cell_type": "code",
   "execution_count": null,
   "metadata": {},
   "outputs": [],
   "source": []
  },
  {
   "cell_type": "code",
   "execution_count": null,
   "metadata": {},
   "outputs": [],
   "source": []
  }
 ],
 "metadata": {
  "kernelspec": {
   "display_name": "Python 3",
   "language": "python",
   "name": "python3"
  },
  "language_info": {
   "codemirror_mode": {
    "name": "ipython",
    "version": 3
   },
   "file_extension": ".py",
   "mimetype": "text/x-python",
   "name": "python",
   "nbconvert_exporter": "python",
   "pygments_lexer": "ipython3",
   "version": "3.7.3"
  }
 },
 "nbformat": 4,
 "nbformat_minor": 2
}
